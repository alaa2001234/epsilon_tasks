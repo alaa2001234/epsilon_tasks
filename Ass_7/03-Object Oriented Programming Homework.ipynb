{
 "cells": [
  {
   "cell_type": "markdown",
   "metadata": {},
   "source": [
    "# Object Oriented Programming\n",
    "## Homework Assignment\n",
    "\n",
    "#### Problem 1\n",
    "Fill in the Line class methods to accept coordinates as a pair of tuples and return the slope and distance of the line."
   ]
  },
  {
   "cell_type": "code",
   "execution_count": 3,
   "metadata": {},
   "outputs": [
    {
     "name": "stdout",
     "output_type": "stream",
     "text": [
      "Enter the following \n",
      " (x0,y0)o-----------o(x1,y1) \n",
      "\n",
      "Enter x0 = 2\n",
      "Enter y0 = 2\n",
      "Enter x1 = 4\n",
      "Enter y1 = 6\n",
      "Slope =  2.0\n",
      "Destance =  4.47213595499958\n"
     ]
    }
   ],
   "source": [
    "import math\n",
    "class line ():\n",
    "    def slope (x, y):\n",
    "        mile = (y[1] - x[1]) / (y[0] - x[0])\n",
    "        return mile\n",
    "    def destance (x,y):\n",
    "        des=math.sqrt(math.pow(y[0]-x[0],2)+math.pow(y[1]-x[1],2))\n",
    "        return des\n",
    "\n",
    "        \n",
    "l1=line\n",
    "print(\"Enter the following \\n (x0,y0)o-----------o(x1,y1) \\n\")\n",
    "x1=int(input(\"Enter x0 = \"))\n",
    "y1=int(input(\"Enter y0 = \"))\n",
    "x2=int(input(\"Enter x1 = \"))\n",
    "y2=int(input(\"Enter y1 = \"))\n",
    "first_point=(x1,y1)\n",
    "second_point=(x2,y2)\n",
    "print(\"Slope = \",l1.slope(first_point,second_point))\n",
    "print(\"Destance = \",l1.destance(first_point,second_point))"
   ]
  },
  {
   "cell_type": "markdown",
   "metadata": {},
   "source": [
    "________\n",
    "#### Problem 2"
   ]
  },
  {
   "cell_type": "markdown",
   "metadata": {},
   "source": [
    "Fill in the class "
   ]
  },
  {
   "cell_type": "code",
   "execution_count": 6,
   "metadata": {},
   "outputs": [],
   "source": [
    "class Cylinder:\n",
    "    \n",
    "    def __init__(self,height=1,radius=1):\n",
    "         self.height = height\n",
    "         self.radius = radius\n",
    "         \n",
    "       \n",
    "        \n",
    "    def volume(self):\n",
    "         return self.height*3.14*(self.radius)**2\n",
    "    \n",
    "    def surface_area(self):\n",
    "        x = 3.14 * (self.radius)**2\n",
    "        return (2*x) + (2*3.14*self.radius*self.height)"
   ]
  },
  {
   "cell_type": "code",
   "execution_count": 7,
   "metadata": {},
   "outputs": [],
   "source": [
    "# EXAMPLE OUTPUT\n",
    "c = Cylinder(2,3)"
   ]
  },
  {
   "cell_type": "code",
   "execution_count": 8,
   "metadata": {},
   "outputs": [
    {
     "data": {
      "text/plain": [
       "56.52"
      ]
     },
     "execution_count": 8,
     "metadata": {},
     "output_type": "execute_result"
    }
   ],
   "source": [
    "c.volume()"
   ]
  },
  {
   "cell_type": "code",
   "execution_count": 9,
   "metadata": {},
   "outputs": [
    {
     "data": {
      "text/plain": [
       "94.2"
      ]
     },
     "execution_count": 9,
     "metadata": {},
     "output_type": "execute_result"
    }
   ],
   "source": [
    "c.surface_area()"
   ]
  }
 ],
 "metadata": {
  "kernelspec": {
   "display_name": "Python 3",
   "language": "python",
   "name": "python3"
  },
  "language_info": {
   "codemirror_mode": {
    "name": "ipython",
    "version": 3
   },
   "file_extension": ".py",
   "mimetype": "text/x-python",
   "name": "python",
   "nbconvert_exporter": "python",
   "pygments_lexer": "ipython3",
   "version": "3.7.6"
  }
 },
 "nbformat": 4,
 "nbformat_minor": 1
}
