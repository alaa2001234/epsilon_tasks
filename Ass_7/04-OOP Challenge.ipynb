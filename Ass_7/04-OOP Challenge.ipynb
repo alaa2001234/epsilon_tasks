{
 "cells": [
  {
   "cell_type": "markdown",
   "metadata": {},
   "source": [
    "# Object Oriented Programming Challenge\n",
    "\n",
    "For this challenge, create a bank account class that has two attributes:\n",
    "\n",
    "* owner\n",
    "* balance\n",
    "\n",
    "and two methods:\n",
    "\n",
    "* deposit\n",
    "* withdraw\n",
    "\n",
    "As an added requirement, withdrawals may not exceed the available balance.\n",
    "\n",
    "Instantiate your class, make several deposits and withdrawals, and test to make sure the account can't be overdrawn."
   ]
  },
  {
   "cell_type": "code",
   "execution_count": null,
   "metadata": {},
   "outputs": [
    {
     "name": "stdout",
     "output_type": "stream",
     "text": [
      "                                        Welcome in smart bank \n",
      " \n",
      "Do you have a account ? Enter any number except 3 : 2\n",
      " \n",
      " 1-I have account  \n",
      " 2-Create account \n",
      " 3-exit \n",
      "2\n",
      "Enter new User name : ali\n",
      "Enter Password consisting of 4 digits :  2001\n",
      "Enter the amount you want to deposit : 5000\n",
      "                                  --Login Success-- \n",
      " \n",
      "What Do You Need ? \n",
      " 1-Withdraw \n",
      " 2-deposit  \n",
      "  1\n",
      "Enter the amount you want to withdraw : 2000\n",
      "The remaining amount = 3000\n"
     ]
    }
   ],
   "source": [
    "class bank :\n",
    "    def Withdraw(x,total):\n",
    "        if x>total :\n",
    "            return \"Sorry cant Withdraw\"\n",
    "        else :\n",
    "            return total - x\n",
    "\n",
    "    def Deposit(x,total):\n",
    "        return x + total\n",
    "\n",
    "    def Create():\n",
    "        Username=input(\"Enter new User name : \")\n",
    "        password=int(input(\"Enter Password consisting of 4 digits :  \"))\n",
    "        total=int(input(\"Enter the amount you want to deposit : \"))\n",
    "        bank.login(Username,password,total)\n",
    "\n",
    "\n",
    "    def login(user_name,password,total):\n",
    "        while (password == 1234 and user_name == \"Alaa\"  or password==2001  and user_name==\"ali\"):\n",
    "            withdraw = 0\n",
    "            deposit = 0\n",
    "            print(\"                                  --Login Success-- \\n \")\n",
    "            Go = int(input(\"What Do You Need ? \\n 1-Withdraw \\n 2-deposit  \\n  \"))\n",
    "            if Go == 1:\n",
    "                withdraw = int(input(\"Enter the amount you want to withdraw : \"))\n",
    "                print(f'The remaining amount = {bank.Withdraw(withdraw,total)}')\n",
    "                break\n",
    "            elif Go == 2:\n",
    "                deposit = int(input(\"Enter the amount you want to deposit : \"))\n",
    "                print(f'The new amount = {bank.Deposit(deposit,total)}')\n",
    "                break\n",
    "            else:\n",
    "                break\n",
    "        if(password !=1234 and password!=2001) :\n",
    "            print(\" *--Login Error--* \")\n",
    "\n",
    "\n",
    "\n",
    "\n",
    "\n",
    "\n",
    "print(\"                                        Welcome in smart bank \\n \")\n",
    "choice=int(input(\"Do you have a account ? Enter any number except 3 : \"))\n",
    "obj=bank\n",
    "while(choice!=3) :\n",
    "\n",
    "    choice=int(input(\" \\n 1-I have account  \\n 2-Create account \\n 3-exit \\n\"))\n",
    "    if choice == 1 :\n",
    "        Username = input(\"Enter new User name : \")\n",
    "        password = int(input(\"Enter Password  :  \"))\n",
    "        total=20000\n",
    "        obj.login(Username,password,total)\n",
    "    elif choice ==2 :\n",
    "        obj.Create()\n",
    "    elif choice==3 :\n",
    "        break\n",
    "    else:\n",
    "        print(\"Try again\")\n",
    "\n",
    "\n",
    "\n"
   ]
  },
  {
   "cell_type": "markdown",
   "metadata": {},
   "source": [
    "## Good job!"
   ]
  }
 ],
 "metadata": {
  "kernelspec": {
   "display_name": "Python 3",
   "language": "python",
   "name": "python3"
  },
  "language_info": {
   "codemirror_mode": {
    "name": "ipython",
    "version": 3
   },
   "file_extension": ".py",
   "mimetype": "text/x-python",
   "name": "python",
   "nbconvert_exporter": "python",
   "pygments_lexer": "ipython3",
   "version": "3.7.6"
  }
 },
 "nbformat": 4,
 "nbformat_minor": 2
}
