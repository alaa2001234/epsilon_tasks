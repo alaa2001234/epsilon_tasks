{
 "cells": [
  {
   "cell_type": "code",
   "execution_count": 12,
   "metadata": {},
   "outputs": [],
   "source": [
    "def rename(src,dst):\n",
    "    os.rename(src, dst)\n",
    "\n",
    "import os\n",
    "images_path = r\"C:\\Users\\alaak\\PycharmProjects\\pythonProject10\\venv\\Ass\"\n",
    "image_list = os.listdir(images_path)\n",
    "for i, image in enumerate(image_list):\n",
    "    ext = os.path.splitext(image)[1]\n",
    "    if ext == '.jpg':\n",
    "        src = images_path + '/' + image\n",
    "        dst = images_path + '/' + str(i) + '.jpg'\n",
    "        os.rename(src, dst)\n",
    "\n",
    "\n",
    "\n",
    "    elif ext=='.png' :\n",
    "        src = images_path + '/' + image\n",
    "        dst = images_path + '/' + str(i) + '.png'\n",
    "        os.rename(src, dst)\n",
    "\n",
    "\n",
    "\n",
    "    elif ext == '.gif':\n",
    "        src = images_path + '/' + image\n",
    "        dst = images_path + '/' + str(i) + '.gif'\n",
    "        os.rename(src, dst)\n",
    "\n"
   ]
  },
  {
   "cell_type": "code",
   "execution_count": 13,
   "metadata": {},
   "outputs": [
    {
     "name": "stdout",
     "output_type": "stream",
     "text": [
      "1- Remove 22.jpg \n",
      "2- Remove 7.jpg \n",
      "3- Remove 1.jpg \n",
      "4- Remove 20.jpg \n",
      "5- Remove 9.jpg \n",
      "6- Remove 16.jpg \n",
      "7- Remove 23.jpg \n",
      "8- Remove 19.gif \n",
      "9- Remove 10.jpg \n",
      "10- Remove 13.jpg \n",
      "11- Remove 0.jpg \n",
      "12- Remove 6.jpg \n"
     ]
    }
   ],
   "source": [
    "import os\n",
    "import random\n",
    "path = (r'C:\\Users\\alaak\\PycharmProjects\\pythonProject10\\venv\\Ass')\n",
    "len_image=len(os.listdir(path))//2\n",
    "\n",
    "for i in range (len_image) :\n",
    "        Random=random.choice(os.listdir(path))\n",
    "        os.remove(fr'C:\\Users\\alaak\\PycharmProjects\\pythonProject10\\venv\\Ass\\{Random}')\n",
    "        print(f\"{i+1}- Remove {Random} \")\n",
    "\n",
    "\n"
   ]
  },
  {
   "cell_type": "code",
   "execution_count": null,
   "metadata": {},
   "outputs": [],
   "source": []
  }
 ],
 "metadata": {
  "kernelspec": {
   "display_name": "Python 3",
   "language": "python",
   "name": "python3"
  },
  "language_info": {
   "codemirror_mode": {
    "name": "ipython",
    "version": 3
   },
   "file_extension": ".py",
   "mimetype": "text/x-python",
   "name": "python",
   "nbconvert_exporter": "python",
   "pygments_lexer": "ipython3",
   "version": "3.7.6"
  }
 },
 "nbformat": 4,
 "nbformat_minor": 4
}
